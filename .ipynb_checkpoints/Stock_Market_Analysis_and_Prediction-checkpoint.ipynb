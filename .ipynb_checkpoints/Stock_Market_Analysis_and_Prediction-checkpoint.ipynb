{
 "cells": [
  {
   "cell_type": "code",
   "execution_count": 0,
   "metadata": {
    "colab": {},
    "colab_type": "code",
    "id": "Jw34ePnghr31"
   },
   "outputs": [],
   "source": [
    "# For Data Processing\n",
    "import numpy as np\n",
    "import pandas as pd\n",
    "from pandas import Series, DataFrame\n",
    "\n",
    "# Data Visualization\n",
    "import matplotlib.pyplot as plt\n",
    "import seaborn as sns\n",
    "sns.set_style('whitegrid')\n",
    "%matplotlib inline"
   ]
  },
  {
   "cell_type": "code",
   "execution_count": 0,
   "metadata": {
    "colab": {},
    "colab_type": "code",
    "id": "cFiwtnc9iAPz"
   },
   "outputs": [],
   "source": [
    "# For reading stock data from yahoo\n",
    "from pandas_datareader import DataReader\n",
    "\n",
    "# For time stamps\n",
    "from datetime import datetime\n",
    "\n",
    "# For division\n",
    "from __future__ import division"
   ]
  },
  {
   "cell_type": "code",
   "execution_count": 0,
   "metadata": {
    "colab": {},
    "colab_type": "code",
    "id": "6mZpJEIYiC1s"
   },
   "outputs": [],
   "source": [
    "# List of Tech_stocks for analytics\n",
    "tech_list = ['AAPL','GOOGL','MSFT','AMZN']\n",
    "\n",
    "# set up Start and End time for data grab\n",
    "end = datetime.now()\n",
    "start = datetime(end.year-1,end.month,end.day)\n",
    "\n",
    "#For-loop for grabing google finance data and setting as a dataframe\n",
    "# Set DataFrame as the Stock Ticker\n",
    "\n",
    "for stock in tech_list:\n",
    "    globals()[stock] = DataReader(stock,'yahoo',start,end)"
   ]
  },
  {
   "cell_type": "code",
   "execution_count": 0,
   "metadata": {
    "colab": {
     "base_uri": "https://localhost:8080/",
     "height": 235
    },
    "colab_type": "code",
    "id": "wAiksVQXiGmV",
    "outputId": "0c6659ce-4ef1-4953-a36b-c78178b40468"
   },
   "outputs": [
    {
     "data": {
      "text/html": [
       "<div>\n",
       "<style scoped>\n",
       "    .dataframe tbody tr th:only-of-type {\n",
       "        vertical-align: middle;\n",
       "    }\n",
       "\n",
       "    .dataframe tbody tr th {\n",
       "        vertical-align: top;\n",
       "    }\n",
       "\n",
       "    .dataframe thead th {\n",
       "        text-align: right;\n",
       "    }\n",
       "</style>\n",
       "<table border=\"1\" class=\"dataframe\">\n",
       "  <thead>\n",
       "    <tr style=\"text-align: right;\">\n",
       "      <th></th>\n",
       "      <th>High</th>\n",
       "      <th>Low</th>\n",
       "      <th>Open</th>\n",
       "      <th>Close</th>\n",
       "      <th>Volume</th>\n",
       "      <th>Adj Close</th>\n",
       "    </tr>\n",
       "    <tr>\n",
       "      <th>Date</th>\n",
       "      <th></th>\n",
       "      <th></th>\n",
       "      <th></th>\n",
       "      <th></th>\n",
       "      <th></th>\n",
       "      <th></th>\n",
       "    </tr>\n",
       "  </thead>\n",
       "  <tbody>\n",
       "    <tr>\n",
       "      <th>2018-10-22</th>\n",
       "      <td>223.360001</td>\n",
       "      <td>218.940002</td>\n",
       "      <td>219.789993</td>\n",
       "      <td>220.649994</td>\n",
       "      <td>28792100.0</td>\n",
       "      <td>217.278320</td>\n",
       "    </tr>\n",
       "    <tr>\n",
       "      <th>2018-10-23</th>\n",
       "      <td>223.250000</td>\n",
       "      <td>214.699997</td>\n",
       "      <td>215.830002</td>\n",
       "      <td>222.729996</td>\n",
       "      <td>38767800.0</td>\n",
       "      <td>219.326538</td>\n",
       "    </tr>\n",
       "    <tr>\n",
       "      <th>2018-10-24</th>\n",
       "      <td>224.229996</td>\n",
       "      <td>214.539993</td>\n",
       "      <td>222.600006</td>\n",
       "      <td>215.089996</td>\n",
       "      <td>40925500.0</td>\n",
       "      <td>211.803284</td>\n",
       "    </tr>\n",
       "    <tr>\n",
       "      <th>2018-10-25</th>\n",
       "      <td>221.380005</td>\n",
       "      <td>216.750000</td>\n",
       "      <td>217.710007</td>\n",
       "      <td>219.800003</td>\n",
       "      <td>29855800.0</td>\n",
       "      <td>216.441330</td>\n",
       "    </tr>\n",
       "    <tr>\n",
       "      <th>2018-10-26</th>\n",
       "      <td>220.190002</td>\n",
       "      <td>212.669998</td>\n",
       "      <td>215.899994</td>\n",
       "      <td>216.300003</td>\n",
       "      <td>47258400.0</td>\n",
       "      <td>212.994797</td>\n",
       "    </tr>\n",
       "  </tbody>\n",
       "</table>\n",
       "</div>"
      ],
      "text/plain": [
       "                  High         Low  ...      Volume   Adj Close\n",
       "Date                                ...                        \n",
       "2018-10-22  223.360001  218.940002  ...  28792100.0  217.278320\n",
       "2018-10-23  223.250000  214.699997  ...  38767800.0  219.326538\n",
       "2018-10-24  224.229996  214.539993  ...  40925500.0  211.803284\n",
       "2018-10-25  221.380005  216.750000  ...  29855800.0  216.441330\n",
       "2018-10-26  220.190002  212.669998  ...  47258400.0  212.994797\n",
       "\n",
       "[5 rows x 6 columns]"
      ]
     },
     "execution_count": 5,
     "metadata": {
      "tags": []
     },
     "output_type": "execute_result"
    }
   ],
   "source": [
    "AAPL.head()\n"
   ]
  },
  {
   "cell_type": "code",
   "execution_count": 0,
   "metadata": {
    "colab": {
     "base_uri": "https://localhost:8080/",
     "height": 297
    },
    "colab_type": "code",
    "id": "Kd7KwLu5iS7-",
    "outputId": "2c522b7f-632b-4159-9934-6508bfe5f99a"
   },
   "outputs": [
    {
     "data": {
      "text/html": [
       "<div>\n",
       "<style scoped>\n",
       "    .dataframe tbody tr th:only-of-type {\n",
       "        vertical-align: middle;\n",
       "    }\n",
       "\n",
       "    .dataframe tbody tr th {\n",
       "        vertical-align: top;\n",
       "    }\n",
       "\n",
       "    .dataframe thead th {\n",
       "        text-align: right;\n",
       "    }\n",
       "</style>\n",
       "<table border=\"1\" class=\"dataframe\">\n",
       "  <thead>\n",
       "    <tr style=\"text-align: right;\">\n",
       "      <th></th>\n",
       "      <th>High</th>\n",
       "      <th>Low</th>\n",
       "      <th>Open</th>\n",
       "      <th>Close</th>\n",
       "      <th>Volume</th>\n",
       "      <th>Adj Close</th>\n",
       "    </tr>\n",
       "  </thead>\n",
       "  <tbody>\n",
       "    <tr>\n",
       "      <th>count</th>\n",
       "      <td>250.000000</td>\n",
       "      <td>250.000000</td>\n",
       "      <td>250.000000</td>\n",
       "      <td>250.000000</td>\n",
       "      <td>2.500000e+02</td>\n",
       "      <td>250.000000</td>\n",
       "    </tr>\n",
       "    <tr>\n",
       "      <th>mean</th>\n",
       "      <td>194.324480</td>\n",
       "      <td>190.407960</td>\n",
       "      <td>192.303800</td>\n",
       "      <td>192.403440</td>\n",
       "      <td>3.184882e+07</td>\n",
       "      <td>191.201346</td>\n",
       "    </tr>\n",
       "    <tr>\n",
       "      <th>std</th>\n",
       "      <td>21.555839</td>\n",
       "      <td>21.494869</td>\n",
       "      <td>21.435826</td>\n",
       "      <td>21.497989</td>\n",
       "      <td>1.351437e+07</td>\n",
       "      <td>21.886026</td>\n",
       "    </tr>\n",
       "    <tr>\n",
       "      <th>min</th>\n",
       "      <td>145.720001</td>\n",
       "      <td>142.000000</td>\n",
       "      <td>143.979996</td>\n",
       "      <td>142.190002</td>\n",
       "      <td>1.136200e+07</td>\n",
       "      <td>140.505798</td>\n",
       "    </tr>\n",
       "    <tr>\n",
       "      <th>25%</th>\n",
       "      <td>175.902496</td>\n",
       "      <td>173.362499</td>\n",
       "      <td>174.737499</td>\n",
       "      <td>174.757500</td>\n",
       "      <td>2.194270e+07</td>\n",
       "      <td>173.279305</td>\n",
       "    </tr>\n",
       "    <tr>\n",
       "      <th>50%</th>\n",
       "      <td>198.750000</td>\n",
       "      <td>193.805000</td>\n",
       "      <td>196.364998</td>\n",
       "      <td>196.345001</td>\n",
       "      <td>2.824650e+07</td>\n",
       "      <td>195.165611</td>\n",
       "    </tr>\n",
       "    <tr>\n",
       "      <th>75%</th>\n",
       "      <td>209.089996</td>\n",
       "      <td>205.104996</td>\n",
       "      <td>207.449997</td>\n",
       "      <td>207.479996</td>\n",
       "      <td>3.854895e+07</td>\n",
       "      <td>206.476418</td>\n",
       "    </tr>\n",
       "    <tr>\n",
       "      <th>max</th>\n",
       "      <td>238.130005</td>\n",
       "      <td>234.880005</td>\n",
       "      <td>236.389999</td>\n",
       "      <td>236.410004</td>\n",
       "      <td>9.574460e+07</td>\n",
       "      <td>236.410004</td>\n",
       "    </tr>\n",
       "  </tbody>\n",
       "</table>\n",
       "</div>"
      ],
      "text/plain": [
       "             High         Low        Open       Close        Volume   Adj Close\n",
       "count  250.000000  250.000000  250.000000  250.000000  2.500000e+02  250.000000\n",
       "mean   194.324480  190.407960  192.303800  192.403440  3.184882e+07  191.201346\n",
       "std     21.555839   21.494869   21.435826   21.497989  1.351437e+07   21.886026\n",
       "min    145.720001  142.000000  143.979996  142.190002  1.136200e+07  140.505798\n",
       "25%    175.902496  173.362499  174.737499  174.757500  2.194270e+07  173.279305\n",
       "50%    198.750000  193.805000  196.364998  196.345001  2.824650e+07  195.165611\n",
       "75%    209.089996  205.104996  207.449997  207.479996  3.854895e+07  206.476418\n",
       "max    238.130005  234.880005  236.389999  236.410004  9.574460e+07  236.410004"
      ]
     },
     "execution_count": 6,
     "metadata": {
      "tags": []
     },
     "output_type": "execute_result"
    }
   ],
   "source": [
    "AAPL.describe()\n"
   ]
  },
  {
   "cell_type": "code",
   "execution_count": 0,
   "metadata": {
    "colab": {
     "base_uri": "https://localhost:8080/",
     "height": 298
    },
    "colab_type": "code",
    "id": "Bam2ZL3NiqdI",
    "outputId": "0f84c6d8-faa2-425a-e14f-5ef5ef4b25c3"
   },
   "outputs": [
    {
     "data": {
      "text/plain": [
       "<matplotlib.axes._subplots.AxesSubplot at 0x7f9408d83780>"
      ]
     },
     "execution_count": 7,
     "metadata": {
      "tags": []
     },
     "output_type": "execute_result"
    },
    {
     "data": {
      "image/png": "[encoded data removed]",
      "text/plain": [
       "<Figure size 720x288 with 1 Axes>"
      ]
     },
     "metadata": {
      "tags": []
     },
     "output_type": "display_data"
    }
   ],
   "source": [
    "AAPL['Close'].plot(legend=True, figsize=(10,4))"
   ]
  },
  {
   "cell_type": "code",
   "execution_count": 0,
   "metadata": {
    "colab": {},
    "colab_type": "code",
    "id": "hrP4BDtSiuG7"
   },
   "outputs": [],
   "source": []
  },
  {
   "cell_type": "code",
   "execution_count": 1,
   "metadata": {
    "colab": {
     "base_uri": "https://localhost:8080/",
     "height": 34
    },
    "colab_type": "code",
    "id": "jQbCsIvmjv-m",
    "outputId": "afaf3325-e754-4de1-b08d-be59ce9dba80"
   },
   "outputs": [
    {
     "name": "stdout",
     "output_type": "stream",
     "text": [
      "Hey Guys! How are you\n"
     ]
    }
   ],
   "source": [
    "print(\"Hey Guys! How are you\")"
   ]
  },
  {
   "cell_type": "code",
   "execution_count": 0,
   "metadata": {
    "colab": {
     "base_uri": "https://localhost:8080/",
     "height": 34
    },
    "colab_type": "code",
    "id": "YD47IxZJj0fv",
    "outputId": "ea3d162b-5e39-4988-8ea9-1e41ea89bce5"
   },
   "outputs": [
    {
     "name": "stdout",
     "output_type": "stream",
     "text": [
      "ss\n"
     ]
    }
   ],
   "source": []
  }
 ],
 "metadata": {
  "colab": {
   "collapsed_sections": [],
   "name": "255_project.ipynb",
   "provenance": []
  },
  "kernelspec": {
   "display_name": "Python 3",
   "language": "python",
   "name": "python3"
  },
  "language_info": {
   "codemirror_mode": {
    "name": "ipython",
    "version": 3
   },
   "file_extension": ".py",
   "mimetype": "text/x-python",
   "name": "python",
   "nbconvert_exporter": "python",
   "pygments_lexer": "ipython3",
   "version": "3.6.8"
  }
 },
 "nbformat": 4,
 "nbformat_minor": 1
}
