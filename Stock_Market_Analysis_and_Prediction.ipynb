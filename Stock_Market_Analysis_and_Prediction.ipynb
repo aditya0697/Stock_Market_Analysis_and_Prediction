{
 "cells": [
  {
   "cell_type": "code",
   "execution_count": 3,
   "metadata": {
    "colab": {},
    "colab_type": "code",
    "id": "Jw34ePnghr31"
   },
   "outputs": [],
   "source": [
    "# For Data Processing\n",
    "import numpy as np\n",
    "import pandas as pd\n",
    "from pandas import Series, DataFrame\n",
    "\n",
    "# Data Visualization\n",
    "import matplotlib.pyplot as plt\n",
    "import seaborn as sns\n",
    "sns.set_style('whitegrid')\n",
    "%matplotlib inline"
   ]
  },
  {
   "cell_type": "code",
   "execution_count": 4,
   "metadata": {
    "colab": {},
    "colab_type": "code",
    "id": "cFiwtnc9iAPz"
   },
   "outputs": [],
   "source": [
    "# For reading stock data from yahoo\n",
    "from pandas_datareader import DataReader\n",
    "\n",
    "# For time stamps\n",
    "from datetime import datetime\n"
   ]
  },
  {
   "cell_type": "code",
   "execution_count": 5,
   "metadata": {},
   "outputs": [],
   "source": [
    "# For division\n",
    "from __future__ import division"
   ]
  },
  {
   "cell_type": "code",
   "execution_count": 6,
   "metadata": {
    "colab": {},
    "colab_type": "code",
    "id": "6mZpJEIYiC1s"
   },
   "outputs": [],
   "source": [
    "# List of Tech_stocks for analytics\n",
    "tech_list = ['AAPL','GOOGL','MSFT','AMZN']\n",
    "\n",
    "# set up Start and End time for data grab\n",
    "end = datetime.now()\n",
    "start = datetime(end.year-1,end.month,end.day)\n",
    "\n",
    "#For-loop for grabing google finance data and setting as a dataframe\n",
    "# Set DataFrame as the Stock Ticker\n",
    "\n",
    "for stock in tech_list:\n",
    "    globals()[stock] = DataReader(stock,'yahoo',start,end)"
   ]
  },
  {
   "cell_type": "code",
   "execution_count": 7,
   "metadata": {
    "colab": {
     "base_uri": "https://localhost:8080/",
     "height": 235
    },
    "colab_type": "code",
    "id": "wAiksVQXiGmV",
    "outputId": "0c6659ce-4ef1-4953-a36b-c78178b40468"
   },
   "outputs": [
    {
     "data": {
      "text/html": [
       "<div>\n",
       "<style scoped>\n",
       "    .dataframe tbody tr th:only-of-type {\n",
       "        vertical-align: middle;\n",
       "    }\n",
       "\n",
       "    .dataframe tbody tr th {\n",
       "        vertical-align: top;\n",
       "    }\n",
       "\n",
       "    .dataframe thead th {\n",
       "        text-align: right;\n",
       "    }\n",
       "</style>\n",
       "<table border=\"1\" class=\"dataframe\">\n",
       "  <thead>\n",
       "    <tr style=\"text-align: right;\">\n",
       "      <th></th>\n",
       "      <th>High</th>\n",
       "      <th>Low</th>\n",
       "      <th>Open</th>\n",
       "      <th>Close</th>\n",
       "      <th>Volume</th>\n",
       "      <th>Adj Close</th>\n",
       "    </tr>\n",
       "    <tr>\n",
       "      <th>Date</th>\n",
       "      <th></th>\n",
       "      <th></th>\n",
       "      <th></th>\n",
       "      <th></th>\n",
       "      <th></th>\n",
       "      <th></th>\n",
       "    </tr>\n",
       "  </thead>\n",
       "  <tbody>\n",
       "    <tr>\n",
       "      <td>2018-10-22</td>\n",
       "      <td>1121.689941</td>\n",
       "      <td>1100.000000</td>\n",
       "      <td>1112.510010</td>\n",
       "      <td>1111.369995</td>\n",
       "      <td>1355800</td>\n",
       "      <td>1111.369995</td>\n",
       "    </tr>\n",
       "    <tr>\n",
       "      <td>2018-10-23</td>\n",
       "      <td>1118.000000</td>\n",
       "      <td>1079.010010</td>\n",
       "      <td>1091.290039</td>\n",
       "      <td>1114.910034</td>\n",
       "      <td>1884300</td>\n",
       "      <td>1114.910034</td>\n",
       "    </tr>\n",
       "    <tr>\n",
       "      <td>2018-10-24</td>\n",
       "      <td>1116.619995</td>\n",
       "      <td>1055.060059</td>\n",
       "      <td>1115.000000</td>\n",
       "      <td>1057.119995</td>\n",
       "      <td>2464300</td>\n",
       "      <td>1057.119995</td>\n",
       "    </tr>\n",
       "    <tr>\n",
       "      <td>2018-10-25</td>\n",
       "      <td>1117.819946</td>\n",
       "      <td>1075.550049</td>\n",
       "      <td>1080.300049</td>\n",
       "      <td>1103.589966</td>\n",
       "      <td>3647800</td>\n",
       "      <td>1103.589966</td>\n",
       "    </tr>\n",
       "    <tr>\n",
       "      <td>2018-10-26</td>\n",
       "      <td>1117.000000</td>\n",
       "      <td>1042.229980</td>\n",
       "      <td>1048.329956</td>\n",
       "      <td>1083.750000</td>\n",
       "      <td>5321900</td>\n",
       "      <td>1083.750000</td>\n",
       "    </tr>\n",
       "  </tbody>\n",
       "</table>\n",
       "</div>"
      ],
      "text/plain": [
       "                   High          Low         Open        Close   Volume  \\\n",
       "Date                                                                      \n",
       "2018-10-22  1121.689941  1100.000000  1112.510010  1111.369995  1355800   \n",
       "2018-10-23  1118.000000  1079.010010  1091.290039  1114.910034  1884300   \n",
       "2018-10-24  1116.619995  1055.060059  1115.000000  1057.119995  2464300   \n",
       "2018-10-25  1117.819946  1075.550049  1080.300049  1103.589966  3647800   \n",
       "2018-10-26  1117.000000  1042.229980  1048.329956  1083.750000  5321900   \n",
       "\n",
       "              Adj Close  \n",
       "Date                     \n",
       "2018-10-22  1111.369995  \n",
       "2018-10-23  1114.910034  \n",
       "2018-10-24  1057.119995  \n",
       "2018-10-25  1103.589966  \n",
       "2018-10-26  1083.750000  "
      ]
     },
     "execution_count": 7,
     "metadata": {},
     "output_type": "execute_result"
    }
   ],
   "source": [
    "GOOGL.head()\n"
   ]
  },
  {
   "cell_type": "code",
   "execution_count": 8,
   "metadata": {
    "colab": {
     "base_uri": "https://localhost:8080/",
     "height": 297
    },
    "colab_type": "code",
    "id": "Kd7KwLu5iS7-",
    "outputId": "2c522b7f-632b-4159-9934-6508bfe5f99a"
   },
   "outputs": [
    {
     "data": {
      "text/html": [
       "<div>\n",
       "<style scoped>\n",
       "    .dataframe tbody tr th:only-of-type {\n",
       "        vertical-align: middle;\n",
       "    }\n",
       "\n",
       "    .dataframe tbody tr th {\n",
       "        vertical-align: top;\n",
       "    }\n",
       "\n",
       "    .dataframe thead th {\n",
       "        text-align: right;\n",
       "    }\n",
       "</style>\n",
       "<table border=\"1\" class=\"dataframe\">\n",
       "  <thead>\n",
       "    <tr style=\"text-align: right;\">\n",
       "      <th></th>\n",
       "      <th>High</th>\n",
       "      <th>Low</th>\n",
       "      <th>Open</th>\n",
       "      <th>Close</th>\n",
       "      <th>Volume</th>\n",
       "      <th>Adj Close</th>\n",
       "    </tr>\n",
       "  </thead>\n",
       "  <tbody>\n",
       "    <tr>\n",
       "      <td>count</td>\n",
       "      <td>250.000000</td>\n",
       "      <td>250.000000</td>\n",
       "      <td>250.000000</td>\n",
       "      <td>250.000000</td>\n",
       "      <td>2.500000e+02</td>\n",
       "      <td>250.000000</td>\n",
       "    </tr>\n",
       "    <tr>\n",
       "      <td>mean</td>\n",
       "      <td>1152.926239</td>\n",
       "      <td>1130.630922</td>\n",
       "      <td>1141.679999</td>\n",
       "      <td>1142.325717</td>\n",
       "      <td>1.679639e+06</td>\n",
       "      <td>1142.325717</td>\n",
       "    </tr>\n",
       "    <tr>\n",
       "      <td>std</td>\n",
       "      <td>62.980971</td>\n",
       "      <td>67.442047</td>\n",
       "      <td>64.914443</td>\n",
       "      <td>65.728858</td>\n",
       "      <td>8.399891e+05</td>\n",
       "      <td>65.728858</td>\n",
       "    </tr>\n",
       "    <tr>\n",
       "      <td>min</td>\n",
       "      <td>1012.119995</td>\n",
       "      <td>977.659973</td>\n",
       "      <td>984.320007</td>\n",
       "      <td>984.669983</td>\n",
       "      <td>6.421000e+05</td>\n",
       "      <td>984.669983</td>\n",
       "    </tr>\n",
       "    <tr>\n",
       "      <td>25%</td>\n",
       "      <td>1099.962524</td>\n",
       "      <td>1075.347534</td>\n",
       "      <td>1088.242493</td>\n",
       "      <td>1086.059998</td>\n",
       "      <td>1.184025e+06</td>\n",
       "      <td>1086.059998</td>\n",
       "    </tr>\n",
       "    <tr>\n",
       "      <td>50%</td>\n",
       "      <td>1150.365051</td>\n",
       "      <td>1130.830017</td>\n",
       "      <td>1142.159973</td>\n",
       "      <td>1142.750000</td>\n",
       "      <td>1.473100e+06</td>\n",
       "      <td>1142.750000</td>\n",
       "    </tr>\n",
       "    <tr>\n",
       "      <td>75%</td>\n",
       "      <td>1205.785034</td>\n",
       "      <td>1189.074982</td>\n",
       "      <td>1197.250000</td>\n",
       "      <td>1197.347504</td>\n",
       "      <td>1.827150e+06</td>\n",
       "      <td>1197.347504</td>\n",
       "    </tr>\n",
       "    <tr>\n",
       "      <td>max</td>\n",
       "      <td>1296.969971</td>\n",
       "      <td>1271.709961</td>\n",
       "      <td>1280.510010</td>\n",
       "      <td>1296.199951</td>\n",
       "      <td>6.658900e+06</td>\n",
       "      <td>1296.199951</td>\n",
       "    </tr>\n",
       "  </tbody>\n",
       "</table>\n",
       "</div>"
      ],
      "text/plain": [
       "              High          Low         Open        Close        Volume  \\\n",
       "count   250.000000   250.000000   250.000000   250.000000  2.500000e+02   \n",
       "mean   1152.926239  1130.630922  1141.679999  1142.325717  1.679639e+06   \n",
       "std      62.980971    67.442047    64.914443    65.728858  8.399891e+05   \n",
       "min    1012.119995   977.659973   984.320007   984.669983  6.421000e+05   \n",
       "25%    1099.962524  1075.347534  1088.242493  1086.059998  1.184025e+06   \n",
       "50%    1150.365051  1130.830017  1142.159973  1142.750000  1.473100e+06   \n",
       "75%    1205.785034  1189.074982  1197.250000  1197.347504  1.827150e+06   \n",
       "max    1296.969971  1271.709961  1280.510010  1296.199951  6.658900e+06   \n",
       "\n",
       "         Adj Close  \n",
       "count   250.000000  \n",
       "mean   1142.325717  \n",
       "std      65.728858  \n",
       "min     984.669983  \n",
       "25%    1086.059998  \n",
       "50%    1142.750000  \n",
       "75%    1197.347504  \n",
       "max    1296.199951  "
      ]
     },
     "execution_count": 8,
     "metadata": {},
     "output_type": "execute_result"
    }
   ],
   "source": [
    "GOOGL.describe()\n"
   ]
  },
  {
   "cell_type": "code",
   "execution_count": 9,
   "metadata": {
    "colab": {
     "base_uri": "https://localhost:8080/",
     "height": 298
    },
    "colab_type": "code",
    "id": "Bam2ZL3NiqdI",
    "outputId": "0f84c6d8-faa2-425a-e14f-5ef5ef4b25c3"
   },
   "outputs": [
    {
     "data": {
      "text/plain": [
       "<matplotlib.axes._subplots.AxesSubplot at 0x21a26aecec8>"
      ]
     },
     "execution_count": 9,
     "metadata": {},
     "output_type": "execute_result"
    },
    {
     "data": {
      "image/png": "[encoded data removed]",
      "text/plain": [
       "<Figure size 720x288 with 1 Axes>"
      ]
     },
     "metadata": {
      "needs_background": "light"
     },
     "output_type": "display_data"
    }
   ],
   "source": [
    "GOOGL['Close'].plot(legend=True, figsize=(10,4))"
   ]
  },
  {
   "cell_type": "code",
   "execution_count": 10,
   "metadata": {
    "colab": {},
    "colab_type": "code",
    "id": "hrP4BDtSiuG7"
   },
   "outputs": [
    {
     "data": {
      "text/plain": [
       "<matplotlib.axes._subplots.AxesSubplot at 0x21a26b5c548>"
      ]
     },
     "execution_count": 10,
     "metadata": {},
     "output_type": "execute_result"
    },
    {
     "data": {
      "image/png": "[encoded data removed]",
      "text/plain": [
       "<Figure size 720x288 with 1 Axes>"
      ]
     },
     "metadata": {
      "needs_background": "light"
     },
     "output_type": "display_data"
    }
   ],
   "source": [
    "# Now let's plot the total volume of stock being traded each day over the past year\n",
    "\n",
    "GOOGL['Volume'].plot(legend=True, figsize=(10,4))"
   ]
  },
  {
   "cell_type": "code",
   "execution_count": 11,
   "metadata": {
    "colab": {
     "base_uri": "https://localhost:8080/",
     "height": 34
    },
    "colab_type": "code",
    "id": "jQbCsIvmjv-m",
    "outputId": "afaf3325-e754-4de1-b08d-be59ce9dba80"
   },
   "outputs": [
    {
     "name": "stdout",
     "output_type": "stream",
     "text": [
      "Hey Guys! How are you\n"
     ]
    }
   ],
   "source": [
    "print(\"Hey Guys! How are you\")"
   ]
  },
  {
   "cell_type": "code",
   "execution_count": 13,
   "metadata": {
    "colab": {
     "base_uri": "https://localhost:8080/",
     "height": 34
    },
    "colab_type": "code",
    "id": "YD47IxZJj0fv",
    "outputId": "ea3d162b-5e39-4988-8ea9-1e41ea89bce5"
   },
   "outputs": [
    {
     "data": {
      "text/html": [
       "<div>\n",
       "<style scoped>\n",
       "    .dataframe tbody tr th:only-of-type {\n",
       "        vertical-align: middle;\n",
       "    }\n",
       "\n",
       "    .dataframe tbody tr th {\n",
       "        vertical-align: top;\n",
       "    }\n",
       "\n",
       "    .dataframe thead th {\n",
       "        text-align: right;\n",
       "    }\n",
       "</style>\n",
       "<table border=\"1\" class=\"dataframe\">\n",
       "  <thead>\n",
       "    <tr style=\"text-align: right;\">\n",
       "      <th></th>\n",
       "      <th>High</th>\n",
       "      <th>Low</th>\n",
       "      <th>Open</th>\n",
       "      <th>Close</th>\n",
       "      <th>Volume</th>\n",
       "      <th>Adj Close</th>\n",
       "    </tr>\n",
       "    <tr>\n",
       "      <th>Date</th>\n",
       "      <th></th>\n",
       "      <th></th>\n",
       "      <th></th>\n",
       "      <th></th>\n",
       "      <th></th>\n",
       "      <th></th>\n",
       "    </tr>\n",
       "  </thead>\n",
       "  <tbody>\n",
       "    <tr>\n",
       "      <td>2018-10-22</td>\n",
       "      <td>223.360001</td>\n",
       "      <td>218.940002</td>\n",
       "      <td>219.789993</td>\n",
       "      <td>220.649994</td>\n",
       "      <td>28792100.0</td>\n",
       "      <td>217.278320</td>\n",
       "    </tr>\n",
       "    <tr>\n",
       "      <td>2018-10-23</td>\n",
       "      <td>223.250000</td>\n",
       "      <td>214.699997</td>\n",
       "      <td>215.830002</td>\n",
       "      <td>222.729996</td>\n",
       "      <td>38767800.0</td>\n",
       "      <td>219.326538</td>\n",
       "    </tr>\n",
       "    <tr>\n",
       "      <td>2018-10-24</td>\n",
       "      <td>224.229996</td>\n",
       "      <td>214.539993</td>\n",
       "      <td>222.600006</td>\n",
       "      <td>215.089996</td>\n",
       "      <td>40925500.0</td>\n",
       "      <td>211.803284</td>\n",
       "    </tr>\n",
       "    <tr>\n",
       "      <td>2018-10-25</td>\n",
       "      <td>221.380005</td>\n",
       "      <td>216.750000</td>\n",
       "      <td>217.710007</td>\n",
       "      <td>219.800003</td>\n",
       "      <td>29855800.0</td>\n",
       "      <td>216.441330</td>\n",
       "    </tr>\n",
       "    <tr>\n",
       "      <td>2018-10-26</td>\n",
       "      <td>220.190002</td>\n",
       "      <td>212.669998</td>\n",
       "      <td>215.899994</td>\n",
       "      <td>216.300003</td>\n",
       "      <td>47258400.0</td>\n",
       "      <td>212.994797</td>\n",
       "    </tr>\n",
       "  </tbody>\n",
       "</table>\n",
       "</div>"
      ],
      "text/plain": [
       "                  High         Low        Open       Close      Volume  \\\n",
       "Date                                                                     \n",
       "2018-10-22  223.360001  218.940002  219.789993  220.649994  28792100.0   \n",
       "2018-10-23  223.250000  214.699997  215.830002  222.729996  38767800.0   \n",
       "2018-10-24  224.229996  214.539993  222.600006  215.089996  40925500.0   \n",
       "2018-10-25  221.380005  216.750000  217.710007  219.800003  29855800.0   \n",
       "2018-10-26  220.190002  212.669998  215.899994  216.300003  47258400.0   \n",
       "\n",
       "             Adj Close  \n",
       "Date                    \n",
       "2018-10-22  217.278320  \n",
       "2018-10-23  219.326538  \n",
       "2018-10-24  211.803284  \n",
       "2018-10-25  216.441330  \n",
       "2018-10-26  212.994797  "
      ]
     },
     "execution_count": 13,
     "metadata": {},
     "output_type": "execute_result"
    }
   ],
   "source": [
    "AAPL.head()"
   ]
  },
  {
   "cell_type": "code",
   "execution_count": 1,
   "metadata": {},
   "outputs": [
    {
     "name": "stdout",
     "output_type": "stream",
     "text": [
      "shree Ganeshay Namah\n"
     ]
    }
   ],
   "source": [
    "print(\"shree Ganeshay Namah\")"
   ]
  },
  {
   "cell_type": "code",
   "execution_count": null,
   "metadata": {},
   "outputs": [],
   "source": []
  }
 ],
 "metadata": {
  "colab": {
   "collapsed_sections": [],
   "name": "255_project.ipynb",
   "provenance": []
  },
  "kernelspec": {
   "display_name": "Python 3",
   "language": "python",
   "name": "python3"
  },
  "language_info": {
   "codemirror_mode": {
    "name": "ipython",
    "version": 3
   },
   "file_extension": ".py",
   "mimetype": "text/x-python",
   "name": "python",
   "nbconvert_exporter": "python",
   "pygments_lexer": "ipython3",
   "version": "3.7.3"
  }
 },
 "nbformat": 4,
 "nbformat_minor": 1
}
